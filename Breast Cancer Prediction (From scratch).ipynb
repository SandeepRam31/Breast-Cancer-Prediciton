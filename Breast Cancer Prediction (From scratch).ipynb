{
 "cells": [
  {
   "cell_type": "code",
   "execution_count": 1,
   "id": "7d5dbc84",
   "metadata": {},
   "outputs": [],
   "source": [
    "import tensorflow as tf\n",
    "import os\n",
    "import numpy as np\n",
    "import pandas as pd"
   ]
  },
  {
   "cell_type": "code",
   "execution_count": 2,
   "id": "23586cdc",
   "metadata": {},
   "outputs": [
    {
     "data": {
      "text/plain": [
       "['.ipynb_checkpoints',\n",
       " 'Breast Cancer Prediction (From scratch).ipynb',\n",
       " 'data.csv',\n",
       " 'model.png']"
      ]
     },
     "execution_count": 2,
     "metadata": {},
     "output_type": "execute_result"
    }
   ],
   "source": [
    "os.listdir()"
   ]
  },
  {
   "cell_type": "markdown",
   "id": "5e336958",
   "metadata": {},
   "source": [
    "## Reading the data, and cleaning up missing values"
   ]
  },
  {
   "cell_type": "code",
   "execution_count": 3,
   "id": "2ba1aa64",
   "metadata": {},
   "outputs": [],
   "source": [
    "col_names = [\"id\", \"clump_thickness\", \"un_cell_size\", \"un_cell_shape\", \"marginal_adheshion\", \"single_eph_cell_size\", \"bare_nuclei\", \"bland_chromatin\", \"normal_nucleoli\", \"mitoses\", \"class\"]\n",
    "data = pd.read_csv('./data.csv', names = col_names, header = None)"
   ]
  },
  {
   "cell_type": "code",
   "execution_count": 4,
   "id": "f7d85cfb",
   "metadata": {},
   "outputs": [
    {
     "data": {
      "text/html": [
       "<div>\n",
       "<style scoped>\n",
       "    .dataframe tbody tr th:only-of-type {\n",
       "        vertical-align: middle;\n",
       "    }\n",
       "\n",
       "    .dataframe tbody tr th {\n",
       "        vertical-align: top;\n",
       "    }\n",
       "\n",
       "    .dataframe thead th {\n",
       "        text-align: right;\n",
       "    }\n",
       "</style>\n",
       "<table border=\"1\" class=\"dataframe\">\n",
       "  <thead>\n",
       "    <tr style=\"text-align: right;\">\n",
       "      <th></th>\n",
       "      <th>id</th>\n",
       "      <th>clump_thickness</th>\n",
       "      <th>un_cell_size</th>\n",
       "      <th>un_cell_shape</th>\n",
       "      <th>marginal_adheshion</th>\n",
       "      <th>single_eph_cell_size</th>\n",
       "      <th>bare_nuclei</th>\n",
       "      <th>bland_chromatin</th>\n",
       "      <th>normal_nucleoli</th>\n",
       "      <th>mitoses</th>\n",
       "      <th>class</th>\n",
       "    </tr>\n",
       "  </thead>\n",
       "  <tbody>\n",
       "    <tr>\n",
       "      <th>0</th>\n",
       "      <td>1000025</td>\n",
       "      <td>5</td>\n",
       "      <td>1</td>\n",
       "      <td>1</td>\n",
       "      <td>1</td>\n",
       "      <td>2</td>\n",
       "      <td>1</td>\n",
       "      <td>3</td>\n",
       "      <td>1</td>\n",
       "      <td>1</td>\n",
       "      <td>2</td>\n",
       "    </tr>\n",
       "    <tr>\n",
       "      <th>1</th>\n",
       "      <td>1002945</td>\n",
       "      <td>5</td>\n",
       "      <td>4</td>\n",
       "      <td>4</td>\n",
       "      <td>5</td>\n",
       "      <td>7</td>\n",
       "      <td>10</td>\n",
       "      <td>3</td>\n",
       "      <td>2</td>\n",
       "      <td>1</td>\n",
       "      <td>2</td>\n",
       "    </tr>\n",
       "    <tr>\n",
       "      <th>2</th>\n",
       "      <td>1015425</td>\n",
       "      <td>3</td>\n",
       "      <td>1</td>\n",
       "      <td>1</td>\n",
       "      <td>1</td>\n",
       "      <td>2</td>\n",
       "      <td>2</td>\n",
       "      <td>3</td>\n",
       "      <td>1</td>\n",
       "      <td>1</td>\n",
       "      <td>2</td>\n",
       "    </tr>\n",
       "    <tr>\n",
       "      <th>3</th>\n",
       "      <td>1016277</td>\n",
       "      <td>6</td>\n",
       "      <td>8</td>\n",
       "      <td>8</td>\n",
       "      <td>1</td>\n",
       "      <td>3</td>\n",
       "      <td>4</td>\n",
       "      <td>3</td>\n",
       "      <td>7</td>\n",
       "      <td>1</td>\n",
       "      <td>2</td>\n",
       "    </tr>\n",
       "    <tr>\n",
       "      <th>4</th>\n",
       "      <td>1017023</td>\n",
       "      <td>4</td>\n",
       "      <td>1</td>\n",
       "      <td>1</td>\n",
       "      <td>3</td>\n",
       "      <td>2</td>\n",
       "      <td>1</td>\n",
       "      <td>3</td>\n",
       "      <td>1</td>\n",
       "      <td>1</td>\n",
       "      <td>2</td>\n",
       "    </tr>\n",
       "  </tbody>\n",
       "</table>\n",
       "</div>"
      ],
      "text/plain": [
       "        id  clump_thickness  un_cell_size  un_cell_shape  marginal_adheshion  \\\n",
       "0  1000025                5             1              1                   1   \n",
       "1  1002945                5             4              4                   5   \n",
       "2  1015425                3             1              1                   1   \n",
       "3  1016277                6             8              8                   1   \n",
       "4  1017023                4             1              1                   3   \n",
       "\n",
       "   single_eph_cell_size bare_nuclei  bland_chromatin  normal_nucleoli  \\\n",
       "0                     2           1                3                1   \n",
       "1                     7          10                3                2   \n",
       "2                     2           2                3                1   \n",
       "3                     3           4                3                7   \n",
       "4                     2           1                3                1   \n",
       "\n",
       "   mitoses  class  \n",
       "0        1      2  \n",
       "1        1      2  \n",
       "2        1      2  \n",
       "3        1      2  \n",
       "4        1      2  "
      ]
     },
     "execution_count": 4,
     "metadata": {},
     "output_type": "execute_result"
    }
   ],
   "source": [
    "data.head()"
   ]
  },
  {
   "cell_type": "code",
   "execution_count": 5,
   "id": "cda731ea",
   "metadata": {},
   "outputs": [],
   "source": [
    "data.drop('id', inplace = True, axis = 1)"
   ]
  },
  {
   "cell_type": "code",
   "execution_count": 6,
   "id": "879a8d48",
   "metadata": {},
   "outputs": [
    {
     "data": {
      "text/html": [
       "<div>\n",
       "<style scoped>\n",
       "    .dataframe tbody tr th:only-of-type {\n",
       "        vertical-align: middle;\n",
       "    }\n",
       "\n",
       "    .dataframe tbody tr th {\n",
       "        vertical-align: top;\n",
       "    }\n",
       "\n",
       "    .dataframe thead th {\n",
       "        text-align: right;\n",
       "    }\n",
       "</style>\n",
       "<table border=\"1\" class=\"dataframe\">\n",
       "  <thead>\n",
       "    <tr style=\"text-align: right;\">\n",
       "      <th></th>\n",
       "      <th>clump_thickness</th>\n",
       "      <th>un_cell_size</th>\n",
       "      <th>un_cell_shape</th>\n",
       "      <th>marginal_adheshion</th>\n",
       "      <th>single_eph_cell_size</th>\n",
       "      <th>bare_nuclei</th>\n",
       "      <th>bland_chromatin</th>\n",
       "      <th>normal_nucleoli</th>\n",
       "      <th>mitoses</th>\n",
       "      <th>class</th>\n",
       "    </tr>\n",
       "  </thead>\n",
       "  <tbody>\n",
       "    <tr>\n",
       "      <th>0</th>\n",
       "      <td>5</td>\n",
       "      <td>1</td>\n",
       "      <td>1</td>\n",
       "      <td>1</td>\n",
       "      <td>2</td>\n",
       "      <td>1</td>\n",
       "      <td>3</td>\n",
       "      <td>1</td>\n",
       "      <td>1</td>\n",
       "      <td>2</td>\n",
       "    </tr>\n",
       "    <tr>\n",
       "      <th>1</th>\n",
       "      <td>5</td>\n",
       "      <td>4</td>\n",
       "      <td>4</td>\n",
       "      <td>5</td>\n",
       "      <td>7</td>\n",
       "      <td>10</td>\n",
       "      <td>3</td>\n",
       "      <td>2</td>\n",
       "      <td>1</td>\n",
       "      <td>2</td>\n",
       "    </tr>\n",
       "    <tr>\n",
       "      <th>2</th>\n",
       "      <td>3</td>\n",
       "      <td>1</td>\n",
       "      <td>1</td>\n",
       "      <td>1</td>\n",
       "      <td>2</td>\n",
       "      <td>2</td>\n",
       "      <td>3</td>\n",
       "      <td>1</td>\n",
       "      <td>1</td>\n",
       "      <td>2</td>\n",
       "    </tr>\n",
       "    <tr>\n",
       "      <th>3</th>\n",
       "      <td>6</td>\n",
       "      <td>8</td>\n",
       "      <td>8</td>\n",
       "      <td>1</td>\n",
       "      <td>3</td>\n",
       "      <td>4</td>\n",
       "      <td>3</td>\n",
       "      <td>7</td>\n",
       "      <td>1</td>\n",
       "      <td>2</td>\n",
       "    </tr>\n",
       "    <tr>\n",
       "      <th>4</th>\n",
       "      <td>4</td>\n",
       "      <td>1</td>\n",
       "      <td>1</td>\n",
       "      <td>3</td>\n",
       "      <td>2</td>\n",
       "      <td>1</td>\n",
       "      <td>3</td>\n",
       "      <td>1</td>\n",
       "      <td>1</td>\n",
       "      <td>2</td>\n",
       "    </tr>\n",
       "  </tbody>\n",
       "</table>\n",
       "</div>"
      ],
      "text/plain": [
       "   clump_thickness  un_cell_size  un_cell_shape  marginal_adheshion  \\\n",
       "0                5             1              1                   1   \n",
       "1                5             4              4                   5   \n",
       "2                3             1              1                   1   \n",
       "3                6             8              8                   1   \n",
       "4                4             1              1                   3   \n",
       "\n",
       "   single_eph_cell_size bare_nuclei  bland_chromatin  normal_nucleoli  \\\n",
       "0                     2           1                3                1   \n",
       "1                     7          10                3                2   \n",
       "2                     2           2                3                1   \n",
       "3                     3           4                3                7   \n",
       "4                     2           1                3                1   \n",
       "\n",
       "   mitoses  class  \n",
       "0        1      2  \n",
       "1        1      2  \n",
       "2        1      2  \n",
       "3        1      2  \n",
       "4        1      2  "
      ]
     },
     "execution_count": 6,
     "metadata": {},
     "output_type": "execute_result"
    }
   ],
   "source": [
    "data.head()"
   ]
  },
  {
   "cell_type": "code",
   "execution_count": 7,
   "id": "f4dcce3f",
   "metadata": {},
   "outputs": [
    {
     "name": "stdout",
     "output_type": "stream",
     "text": [
      "<class 'pandas.core.frame.DataFrame'>\n",
      "RangeIndex: 699 entries, 0 to 698\n",
      "Data columns (total 10 columns):\n",
      " #   Column                Non-Null Count  Dtype \n",
      "---  ------                --------------  ----- \n",
      " 0   clump_thickness       699 non-null    int64 \n",
      " 1   un_cell_size          699 non-null    int64 \n",
      " 2   un_cell_shape         699 non-null    int64 \n",
      " 3   marginal_adheshion    699 non-null    int64 \n",
      " 4   single_eph_cell_size  699 non-null    int64 \n",
      " 5   bare_nuclei           699 non-null    object\n",
      " 6   bland_chromatin       699 non-null    int64 \n",
      " 7   normal_nucleoli       699 non-null    int64 \n",
      " 8   mitoses               699 non-null    int64 \n",
      " 9   class                 699 non-null    int64 \n",
      "dtypes: int64(9), object(1)\n",
      "memory usage: 54.7+ KB\n"
     ]
    }
   ],
   "source": [
    "data.info()"
   ]
  },
  {
   "cell_type": "code",
   "execution_count": 8,
   "id": "c52e192a",
   "metadata": {},
   "outputs": [],
   "source": [
    "data = data[data[\"bare_nuclei\"] != '?' ]\n",
    "data.bare_nuclei = pd.to_numeric(data.bare_nuclei)"
   ]
  },
  {
   "cell_type": "code",
   "execution_count": 9,
   "id": "608ab436",
   "metadata": {},
   "outputs": [
    {
     "name": "stdout",
     "output_type": "stream",
     "text": [
      "<class 'pandas.core.frame.DataFrame'>\n",
      "Int64Index: 683 entries, 0 to 698\n",
      "Data columns (total 10 columns):\n",
      " #   Column                Non-Null Count  Dtype\n",
      "---  ------                --------------  -----\n",
      " 0   clump_thickness       683 non-null    int64\n",
      " 1   un_cell_size          683 non-null    int64\n",
      " 2   un_cell_shape         683 non-null    int64\n",
      " 3   marginal_adheshion    683 non-null    int64\n",
      " 4   single_eph_cell_size  683 non-null    int64\n",
      " 5   bare_nuclei           683 non-null    int64\n",
      " 6   bland_chromatin       683 non-null    int64\n",
      " 7   normal_nucleoli       683 non-null    int64\n",
      " 8   mitoses               683 non-null    int64\n",
      " 9   class                 683 non-null    int64\n",
      "dtypes: int64(10)\n",
      "memory usage: 58.7 KB\n"
     ]
    }
   ],
   "source": [
    "data.info()"
   ]
  },
  {
   "cell_type": "markdown",
   "id": "31bb5b1a",
   "metadata": {},
   "source": [
    "## Data preprocessing"
   ]
  },
  {
   "cell_type": "code",
   "execution_count": 30,
   "id": "60a4db95",
   "metadata": {},
   "outputs": [],
   "source": [
    "data = data.sample(frac = 1)"
   ]
  },
  {
   "cell_type": "code",
   "execution_count": 31,
   "id": "75728f84",
   "metadata": {},
   "outputs": [],
   "source": [
    "X = data.drop('class', axis = 1)\n",
    "y = data['class']"
   ]
  },
  {
   "cell_type": "code",
   "execution_count": 32,
   "id": "49728191",
   "metadata": {},
   "outputs": [],
   "source": [
    "data_stats = X.describe().transpose()"
   ]
  },
  {
   "cell_type": "code",
   "execution_count": 33,
   "id": "327ac0c1",
   "metadata": {},
   "outputs": [],
   "source": [
    "def norm(df):\n",
    "    return (df - data_stats['mean']) / data_stats['std']"
   ]
  },
  {
   "cell_type": "code",
   "execution_count": 34,
   "id": "b701684a",
   "metadata": {},
   "outputs": [],
   "source": [
    "X = norm(X)"
   ]
  },
  {
   "cell_type": "code",
   "execution_count": 35,
   "id": "7feb1edb",
   "metadata": {
    "scrolled": true
   },
   "outputs": [
    {
     "data": {
      "text/html": [
       "<div>\n",
       "<style scoped>\n",
       "    .dataframe tbody tr th:only-of-type {\n",
       "        vertical-align: middle;\n",
       "    }\n",
       "\n",
       "    .dataframe tbody tr th {\n",
       "        vertical-align: top;\n",
       "    }\n",
       "\n",
       "    .dataframe thead th {\n",
       "        text-align: right;\n",
       "    }\n",
       "</style>\n",
       "<table border=\"1\" class=\"dataframe\">\n",
       "  <thead>\n",
       "    <tr style=\"text-align: right;\">\n",
       "      <th></th>\n",
       "      <th>clump_thickness</th>\n",
       "      <th>un_cell_size</th>\n",
       "      <th>un_cell_shape</th>\n",
       "      <th>marginal_adheshion</th>\n",
       "      <th>single_eph_cell_size</th>\n",
       "      <th>bare_nuclei</th>\n",
       "      <th>bland_chromatin</th>\n",
       "      <th>normal_nucleoli</th>\n",
       "      <th>mitoses</th>\n",
       "    </tr>\n",
       "  </thead>\n",
       "  <tbody>\n",
       "    <tr>\n",
       "      <th>count</th>\n",
       "      <td>6.830000e+02</td>\n",
       "      <td>6.830000e+02</td>\n",
       "      <td>6.830000e+02</td>\n",
       "      <td>6.830000e+02</td>\n",
       "      <td>6.830000e+02</td>\n",
       "      <td>6.830000e+02</td>\n",
       "      <td>6.830000e+02</td>\n",
       "      <td>6.830000e+02</td>\n",
       "      <td>6.830000e+02</td>\n",
       "    </tr>\n",
       "    <tr>\n",
       "      <th>mean</th>\n",
       "      <td>1.105346e-16</td>\n",
       "      <td>1.560489e-17</td>\n",
       "      <td>-7.802446e-17</td>\n",
       "      <td>5.981875e-17</td>\n",
       "      <td>-1.560489e-17</td>\n",
       "      <td>-4.551427e-18</td>\n",
       "      <td>4.161304e-17</td>\n",
       "      <td>5.136610e-17</td>\n",
       "      <td>7.542364e-17</td>\n",
       "    </tr>\n",
       "    <tr>\n",
       "      <th>std</th>\n",
       "      <td>1.000000e+00</td>\n",
       "      <td>1.000000e+00</td>\n",
       "      <td>1.000000e+00</td>\n",
       "      <td>1.000000e+00</td>\n",
       "      <td>1.000000e+00</td>\n",
       "      <td>1.000000e+00</td>\n",
       "      <td>1.000000e+00</td>\n",
       "      <td>1.000000e+00</td>\n",
       "      <td>1.000000e+00</td>\n",
       "    </tr>\n",
       "    <tr>\n",
       "      <th>min</th>\n",
       "      <td>-1.220297e+00</td>\n",
       "      <td>-7.016978e-01</td>\n",
       "      <td>-7.412304e-01</td>\n",
       "      <td>-6.388973e-01</td>\n",
       "      <td>-1.005027e+00</td>\n",
       "      <td>-6.983413e-01</td>\n",
       "      <td>-9.981216e-01</td>\n",
       "      <td>-6.124785e-01</td>\n",
       "      <td>-3.481446e-01</td>\n",
       "    </tr>\n",
       "    <tr>\n",
       "      <th>25%</th>\n",
       "      <td>-8.657829e-01</td>\n",
       "      <td>-7.016978e-01</td>\n",
       "      <td>-7.412304e-01</td>\n",
       "      <td>-6.388973e-01</td>\n",
       "      <td>-5.552016e-01</td>\n",
       "      <td>-6.983413e-01</td>\n",
       "      <td>-5.899078e-01</td>\n",
       "      <td>-6.124785e-01</td>\n",
       "      <td>-3.481446e-01</td>\n",
       "    </tr>\n",
       "    <tr>\n",
       "      <th>50%</th>\n",
       "      <td>-1.567545e-01</td>\n",
       "      <td>-7.016978e-01</td>\n",
       "      <td>-7.412304e-01</td>\n",
       "      <td>-6.388973e-01</td>\n",
       "      <td>-5.552016e-01</td>\n",
       "      <td>-6.983413e-01</td>\n",
       "      <td>-1.816940e-01</td>\n",
       "      <td>-6.124785e-01</td>\n",
       "      <td>-3.481446e-01</td>\n",
       "    </tr>\n",
       "    <tr>\n",
       "      <th>75%</th>\n",
       "      <td>5.522740e-01</td>\n",
       "      <td>6.032977e-01</td>\n",
       "      <td>5.971975e-01</td>\n",
       "      <td>4.083832e-01</td>\n",
       "      <td>3.444489e-01</td>\n",
       "      <td>6.738310e-01</td>\n",
       "      <td>6.347336e-01</td>\n",
       "      <td>3.702689e-01</td>\n",
       "      <td>-3.481446e-01</td>\n",
       "    </tr>\n",
       "    <tr>\n",
       "      <th>max</th>\n",
       "      <td>1.970331e+00</td>\n",
       "      <td>2.234542e+00</td>\n",
       "      <td>2.270232e+00</td>\n",
       "      <td>2.502944e+00</td>\n",
       "      <td>3.043400e+00</td>\n",
       "      <td>1.771569e+00</td>\n",
       "      <td>2.675803e+00</td>\n",
       "      <td>2.335764e+00</td>\n",
       "      <td>4.846139e+00</td>\n",
       "    </tr>\n",
       "  </tbody>\n",
       "</table>\n",
       "</div>"
      ],
      "text/plain": [
       "       clump_thickness  un_cell_size  un_cell_shape  marginal_adheshion  \\\n",
       "count     6.830000e+02  6.830000e+02   6.830000e+02        6.830000e+02   \n",
       "mean      1.105346e-16  1.560489e-17  -7.802446e-17        5.981875e-17   \n",
       "std       1.000000e+00  1.000000e+00   1.000000e+00        1.000000e+00   \n",
       "min      -1.220297e+00 -7.016978e-01  -7.412304e-01       -6.388973e-01   \n",
       "25%      -8.657829e-01 -7.016978e-01  -7.412304e-01       -6.388973e-01   \n",
       "50%      -1.567545e-01 -7.016978e-01  -7.412304e-01       -6.388973e-01   \n",
       "75%       5.522740e-01  6.032977e-01   5.971975e-01        4.083832e-01   \n",
       "max       1.970331e+00  2.234542e+00   2.270232e+00        2.502944e+00   \n",
       "\n",
       "       single_eph_cell_size   bare_nuclei  bland_chromatin  normal_nucleoli  \\\n",
       "count          6.830000e+02  6.830000e+02     6.830000e+02     6.830000e+02   \n",
       "mean          -1.560489e-17 -4.551427e-18     4.161304e-17     5.136610e-17   \n",
       "std            1.000000e+00  1.000000e+00     1.000000e+00     1.000000e+00   \n",
       "min           -1.005027e+00 -6.983413e-01    -9.981216e-01    -6.124785e-01   \n",
       "25%           -5.552016e-01 -6.983413e-01    -5.899078e-01    -6.124785e-01   \n",
       "50%           -5.552016e-01 -6.983413e-01    -1.816940e-01    -6.124785e-01   \n",
       "75%            3.444489e-01  6.738310e-01     6.347336e-01     3.702689e-01   \n",
       "max            3.043400e+00  1.771569e+00     2.675803e+00     2.335764e+00   \n",
       "\n",
       "            mitoses  \n",
       "count  6.830000e+02  \n",
       "mean   7.542364e-17  \n",
       "std    1.000000e+00  \n",
       "min   -3.481446e-01  \n",
       "25%   -3.481446e-01  \n",
       "50%   -3.481446e-01  \n",
       "75%   -3.481446e-01  \n",
       "max    4.846139e+00  "
      ]
     },
     "execution_count": 35,
     "metadata": {},
     "output_type": "execute_result"
    }
   ],
   "source": [
    "X.describe()"
   ]
  },
  {
   "cell_type": "code",
   "execution_count": 36,
   "id": "b4660ad6",
   "metadata": {},
   "outputs": [
    {
     "data": {
      "text/plain": [
       "array([2, 4], dtype=int64)"
      ]
     },
     "execution_count": 36,
     "metadata": {},
     "output_type": "execute_result"
    }
   ],
   "source": [
    "y.unique()"
   ]
  },
  {
   "cell_type": "code",
   "execution_count": 37,
   "id": "f822e4d8",
   "metadata": {},
   "outputs": [],
   "source": [
    "y = np.where(y == 2, 0, 1)"
   ]
  },
  {
   "cell_type": "code",
   "execution_count": 38,
   "id": "9c7ad560",
   "metadata": {},
   "outputs": [
    {
     "data": {
      "text/plain": [
       "array([0, 0, 1, 0, 1, 0, 0, 0, 0, 0, 0, 0, 0, 0, 0, 1, 0, 0, 1, 0, 1, 0,\n",
       "       0, 0, 0, 1, 0, 1, 0, 0, 0, 0, 0, 0, 1, 0, 1, 0, 1, 1, 1, 0, 0, 0,\n",
       "       0, 0, 0, 1, 0, 0, 0, 0, 0, 1, 0, 0, 0, 0, 0, 0, 1, 1, 1, 0, 0, 1,\n",
       "       0, 0, 0, 1, 0, 1, 1, 0, 0, 1, 1, 1, 0, 1, 0, 1, 0, 1, 0, 1, 0, 1,\n",
       "       1, 0, 0, 0, 1, 0, 1, 0, 0, 1, 0, 0, 0, 0, 0, 0, 0, 0, 1, 0, 1, 0,\n",
       "       0, 0, 1, 0, 0, 0, 1, 0, 0, 1, 1, 0, 1, 1, 0, 0, 0, 0, 0, 1, 0, 1,\n",
       "       0, 1, 0, 0, 0, 0, 0, 0, 1, 1, 0, 0, 1, 1, 0, 0, 1, 0, 1, 0, 1, 0,\n",
       "       1, 1, 0, 1, 1, 1, 1, 0, 1, 0, 0, 1, 1, 0, 0, 1, 0, 0, 1, 1, 0, 1,\n",
       "       1, 1, 0, 0, 0, 0, 1, 0, 1, 1, 0, 1, 1, 0, 1, 0, 1, 0, 1, 1, 0, 0,\n",
       "       1, 0, 0, 0, 0, 0, 0, 0, 0, 0, 1, 0, 0, 0, 0, 1, 1, 0, 0, 1, 0, 0,\n",
       "       0, 0, 1, 0, 0, 0, 0, 0, 0, 0, 0, 1, 1, 0, 1, 1, 0, 1, 0, 0, 1, 1,\n",
       "       1, 0, 0, 1, 1, 1, 1, 0, 1, 0, 1, 0, 0, 0, 1, 1, 0, 0, 0, 1, 0, 1,\n",
       "       0, 1, 0, 0, 0, 0, 1, 1, 0, 0, 0, 1, 0, 0, 0, 0, 0, 0, 0, 0, 1, 0,\n",
       "       0, 0, 0, 0, 0, 1, 0, 1, 0, 0, 0, 1, 0, 0, 0, 1, 0, 0, 1, 1, 1, 1,\n",
       "       0, 0, 1, 0, 0, 0, 1, 0, 1, 1, 0, 0, 0, 1, 0, 1, 0, 1, 0, 0, 0, 0,\n",
       "       1, 0, 0, 1, 0, 0, 0, 0, 1, 0, 1, 0, 0, 1, 0, 1, 1, 0, 1, 1, 0, 1,\n",
       "       0, 0, 1, 0, 0, 0, 1, 0, 1, 0, 0, 0, 0, 0, 0, 0, 0, 1, 0, 1, 0, 0,\n",
       "       1, 1, 1, 0, 1, 1, 0, 0, 0, 0, 1, 0, 0, 1, 0, 0, 0, 0, 0, 1, 0, 1,\n",
       "       1, 0, 1, 1, 0, 1, 0, 0, 1, 0, 0, 0, 1, 0, 0, 0, 0, 1, 1, 0, 0, 0,\n",
       "       0, 0, 1, 0, 0, 0, 0, 0, 1, 0, 0, 0, 0, 1, 0, 0, 0, 0, 0, 1, 0, 0,\n",
       "       0, 1, 0, 1, 0, 0, 0, 0, 0, 0, 1, 0, 0, 1, 1, 1, 1, 0, 1, 0, 0, 0,\n",
       "       0, 0, 0, 0, 1, 0, 1, 1, 0, 0, 1, 0, 0, 1, 1, 0, 0, 0, 0, 1, 0, 0,\n",
       "       0, 0, 0, 0, 0, 0, 1, 1, 0, 1, 1, 1, 0, 0, 0, 1, 1, 0, 1, 1, 1, 1,\n",
       "       0, 1, 1, 0, 1, 0, 0, 0, 1, 0, 0, 0, 1, 1, 0, 0, 0, 0, 1, 1, 0, 0,\n",
       "       1, 1, 0, 0, 0, 0, 0, 0, 0, 0, 1, 0, 0, 1, 0, 1, 1, 0, 1, 1, 1, 0,\n",
       "       1, 0, 0, 1, 0, 0, 1, 0, 0, 0, 0, 0, 0, 0, 0, 1, 0, 0, 0, 0, 0, 1,\n",
       "       0, 1, 0, 0, 0, 1, 1, 1, 1, 1, 1, 0, 0, 0, 0, 0, 1, 0, 0, 0, 0, 0,\n",
       "       0, 0, 1, 0, 0, 0, 0, 1, 1, 0, 0, 0, 1, 0, 1, 1, 1, 0, 0, 0, 1, 1,\n",
       "       1, 0, 0, 0, 1, 0, 0, 0, 0, 0, 0, 0, 0, 0, 0, 0, 0, 1, 0, 1, 0, 0,\n",
       "       0, 0, 0, 1, 0, 1, 1, 0, 1, 0, 0, 0, 0, 1, 0, 0, 1, 0, 0, 1, 0, 0,\n",
       "       0, 0, 0, 0, 1, 0, 1, 1, 1, 0, 0, 1, 0, 1, 0, 0, 0, 0, 0, 1, 0, 0,\n",
       "       1])"
      ]
     },
     "execution_count": 38,
     "metadata": {},
     "output_type": "execute_result"
    }
   ],
   "source": [
    "y"
   ]
  },
  {
   "cell_type": "code",
   "execution_count": 39,
   "id": "29ea879e",
   "metadata": {},
   "outputs": [],
   "source": [
    "X_train, X_test, y_train, y_test = X[:int(len(data)*0.8)], X[int(len(data)*0.8):], y[:int(len(data)*0.8)], y[int(len(data)*0.8):]"
   ]
  },
  {
   "cell_type": "code",
   "execution_count": 40,
   "id": "13e5903f",
   "metadata": {},
   "outputs": [
    {
     "data": {
      "text/plain": [
       "(546, 9)"
      ]
     },
     "execution_count": 40,
     "metadata": {},
     "output_type": "execute_result"
    }
   ],
   "source": [
    "X_train.shape"
   ]
  },
  {
   "cell_type": "code",
   "execution_count": 41,
   "id": "2193fbb3",
   "metadata": {},
   "outputs": [
    {
     "data": {
      "text/plain": [
       "(546,)"
      ]
     },
     "execution_count": 41,
     "metadata": {},
     "output_type": "execute_result"
    }
   ],
   "source": [
    "y_train.shape"
   ]
  },
  {
   "cell_type": "markdown",
   "id": "35b543cb",
   "metadata": {},
   "source": [
    "## Building a model from scratch"
   ]
  },
  {
   "cell_type": "markdown",
   "id": "1e8e464c",
   "metadata": {},
   "source": [
    "The model will be of the following architecture:\n",
    "* Input Layer\n",
    "* Dense(128) with relu activation\n",
    "* Dropout of 0.3\n",
    "* Dense(1) with sigmoid activation"
   ]
  },
  {
   "cell_type": "code",
   "execution_count": 42,
   "id": "f977e370",
   "metadata": {},
   "outputs": [],
   "source": [
    "from tensorflow.keras.models import Model\n",
    "from tensorflow.keras.layers import Layer, Dense, Dropout, Input\n",
    "from tensorflow.keras.utils import plot_model"
   ]
  },
  {
   "cell_type": "code",
   "execution_count": 43,
   "id": "217d9970",
   "metadata": {},
   "outputs": [],
   "source": [
    "class MyModel(Model):\n",
    "    def __init__(self):\n",
    "        super(MyModel, self).__init__()\n",
    "        self.fc_1 = Dense(128, activation = 'relu')\n",
    "        self.output_ = Dense(1, activation = 'sigmoid')\n",
    "        self.dropout = Dropout(0.3)\n",
    "    \n",
    "    def call(self, inputs):\n",
    "        x = self.fc_1(inputs)\n",
    "        x = self.dropout(x)\n",
    "\n",
    "        return self.output_(x)"
   ]
  },
  {
   "cell_type": "code",
   "execution_count": 44,
   "id": "0a3dd114",
   "metadata": {},
   "outputs": [],
   "source": [
    "input_layer = Input(shape = (9))\n",
    "output_layer = MyModel()(input_layer)\n",
    "\n",
    "model = Model(inputs = input_layer, outputs = output_layer)"
   ]
  },
  {
   "cell_type": "code",
   "execution_count": 45,
   "id": "d0e13fb1",
   "metadata": {},
   "outputs": [],
   "source": [
    "model.compile(metrics = ['accuracy'],\n",
    "             optimizer = 'adam',\n",
    "             loss = tf.keras.losses.BinaryCrossentropy())"
   ]
  },
  {
   "cell_type": "code",
   "execution_count": 46,
   "id": "18c024bf",
   "metadata": {},
   "outputs": [
    {
     "name": "stdout",
     "output_type": "stream",
     "text": [
      "Epoch 1/10\n",
      "18/18 [==============================] - 1s 12ms/step - loss: 0.5907 - accuracy: 0.7420 - val_loss: 0.3693 - val_accuracy: 0.9562\n",
      "Epoch 2/10\n",
      "18/18 [==============================] - 0s 6ms/step - loss: 0.2958 - accuracy: 0.9703 - val_loss: 0.2288 - val_accuracy: 0.9562\n",
      "Epoch 3/10\n",
      "18/18 [==============================] - 0s 6ms/step - loss: 0.1779 - accuracy: 0.9748 - val_loss: 0.1686 - val_accuracy: 0.9562\n",
      "Epoch 4/10\n",
      "18/18 [==============================] - 0s 6ms/step - loss: 0.1359 - accuracy: 0.9678 - val_loss: 0.1408 - val_accuracy: 0.9562\n",
      "Epoch 5/10\n",
      "18/18 [==============================] - 0s 6ms/step - loss: 0.1004 - accuracy: 0.9770 - val_loss: 0.1258 - val_accuracy: 0.9562\n",
      "Epoch 6/10\n",
      "18/18 [==============================] - 0s 7ms/step - loss: 0.0938 - accuracy: 0.9687 - val_loss: 0.1172 - val_accuracy: 0.9562\n",
      "Epoch 7/10\n",
      "18/18 [==============================] - 0s 7ms/step - loss: 0.0977 - accuracy: 0.9615 - val_loss: 0.1123 - val_accuracy: 0.9562\n",
      "Epoch 8/10\n",
      "18/18 [==============================] - 0s 7ms/step - loss: 0.0800 - accuracy: 0.9767 - val_loss: 0.1095 - val_accuracy: 0.9562\n",
      "Epoch 9/10\n",
      "18/18 [==============================] - 0s 7ms/step - loss: 0.0788 - accuracy: 0.9774 - val_loss: 0.1066 - val_accuracy: 0.9562\n",
      "Epoch 10/10\n",
      "18/18 [==============================] - 0s 7ms/step - loss: 0.0708 - accuracy: 0.9772 - val_loss: 0.1057 - val_accuracy: 0.9562\n"
     ]
    },
    {
     "data": {
      "text/plain": [
       "<tensorflow.python.keras.callbacks.History at 0x1bd4f044d00>"
      ]
     },
     "execution_count": 46,
     "metadata": {},
     "output_type": "execute_result"
    }
   ],
   "source": [
    "model.fit(X_train, y_train, epochs = 10, validation_data = (X_test, y_test))"
   ]
  },
  {
   "cell_type": "markdown",
   "id": "f8c99756",
   "metadata": {},
   "source": [
    "## Building the Layers from scratch"
   ]
  },
  {
   "cell_type": "markdown",
   "id": "15601639",
   "metadata": {},
   "source": [
    "Here we will be building a Dense Layer / fully connected layer and a Dropout Layer from scratch"
   ]
  },
  {
   "cell_type": "code",
   "execution_count": 47,
   "id": "8b60c273",
   "metadata": {},
   "outputs": [],
   "source": [
    "class MyDense(Layer):\n",
    "    def __init__(self, units, activation = None):\n",
    "        super(MyDense, self).__init__()\n",
    "        self.units = units\n",
    "        self.activation = tf.keras.activations.get(activation)\n",
    "    \n",
    "    def build(self, input_shape):\n",
    "        \n",
    "        w_init = tf.random_normal_initializer()\n",
    "        self.w = tf.Variable(\n",
    "            name = 'kernel',\n",
    "            initial_value = w_init(shape = (input_shape[-1], self.units), dtype = 'float32'),\n",
    "            trainable = True\n",
    "        )\n",
    "        \n",
    "        b_init = tf.zeros_initializer()\n",
    "        self.b = tf.Variable(\n",
    "            name = 'bias',\n",
    "            initial_value = b_init(shape = (self.units,), dtype = 'float32'),\n",
    "            trainable = True\n",
    "        )\n",
    "        super().build(input_shape)\n",
    "        \n",
    "    def call(self, inputs):\n",
    "        return self.activation(tf.add(tf.matmul(inputs, self.w), self.b))"
   ]
  },
  {
   "cell_type": "code",
   "execution_count": 99,
   "id": "2cbf9746",
   "metadata": {},
   "outputs": [],
   "source": [
    "class MyDropout(Layer):\n",
    "    def __init__(self, drop_pct = 0.0):\n",
    "        super(MyDropout, self).__init__()\n",
    "        self.drop_pct = drop_pct\n",
    "        \n",
    "    def build(self, input_shape):\n",
    "        zeros_tensor = tf.zeros(shape = (int(input_shape[-1] * self.drop_pct), ))\n",
    "        ones_tensor = tf.ones(shape = (input_shape[-1] - int(input_shape[-1] * self.drop_pct), ))\n",
    "        self.drop_matrix = tf.Variable(\n",
    "            name = 'Dropout Matrix',\n",
    "            initial_value = tf.concat([zeros_tensor, ones_tensor], 0),\n",
    "            trainable = False)\n",
    "        \n",
    "        super().build(input_shape)\n",
    "    \n",
    "    def call(self, inputs):\n",
    "        return inputs * tf.random.shuffle(self.drop_matrix)"
   ]
  },
  {
   "cell_type": "code",
   "execution_count": 100,
   "id": "91049a88",
   "metadata": {},
   "outputs": [],
   "source": [
    "input_layer = Input(shape=(9))\n",
    "x = MyDense(128, activation = 'relu')(input_layer)\n",
    "x = MyDropout(0.4)(x)\n",
    "x = MyDense(128, activation = 'relu')(x)\n",
    "output_layer = MyDense(1, activation = 'sigmoid')(x)"
   ]
  },
  {
   "cell_type": "code",
   "execution_count": 101,
   "id": "e14b18e3",
   "metadata": {},
   "outputs": [],
   "source": [
    "model = Model(inputs = [input_layer], outputs = output_layer)"
   ]
  },
  {
   "cell_type": "code",
   "execution_count": 102,
   "id": "1123fe8c",
   "metadata": {},
   "outputs": [
    {
     "name": "stdout",
     "output_type": "stream",
     "text": [
      "Model: \"model_12\"\n",
      "_________________________________________________________________\n",
      "Layer (type)                 Output Shape              Param #   \n",
      "=================================================================\n",
      "input_14 (InputLayer)        [(None, 9)]               0         \n",
      "_________________________________________________________________\n",
      "my_dense_21 (MyDense)        (None, 128)               1280      \n",
      "_________________________________________________________________\n",
      "my_dropout_8 (MyDropout)     (None, 128)               128       \n",
      "_________________________________________________________________\n",
      "my_dense_22 (MyDense)        (None, 128)               16512     \n",
      "_________________________________________________________________\n",
      "my_dense_23 (MyDense)        (None, 1)                 129       \n",
      "=================================================================\n",
      "Total params: 18,049\n",
      "Trainable params: 17,921\n",
      "Non-trainable params: 128\n",
      "_________________________________________________________________\n"
     ]
    }
   ],
   "source": [
    "model.summary()"
   ]
  },
  {
   "cell_type": "code",
   "execution_count": 103,
   "id": "95e6ee0c",
   "metadata": {},
   "outputs": [],
   "source": [
    "model.compile(\n",
    "    metrics = ['accuracy'],\n",
    "    loss = tf.keras.losses.BinaryCrossentropy(),\n",
    "    optimizer = tf.keras.optimizers.Adam())"
   ]
  },
  {
   "cell_type": "code",
   "execution_count": 104,
   "id": "5173bdf3",
   "metadata": {},
   "outputs": [
    {
     "name": "stdout",
     "output_type": "stream",
     "text": [
      "Epoch 1/10\n",
      "18/18 [==============================] - 1s 19ms/step - loss: 0.6694 - accuracy: 0.8931 - val_loss: 0.5749 - val_accuracy: 0.9562\n",
      "Epoch 2/10\n",
      "18/18 [==============================] - 0s 7ms/step - loss: 0.5055 - accuracy: 0.9738 - val_loss: 0.3040 - val_accuracy: 0.9562\n",
      "Epoch 3/10\n",
      "18/18 [==============================] - 0s 7ms/step - loss: 0.2129 - accuracy: 0.9765 - val_loss: 0.1338 - val_accuracy: 0.9562\n",
      "Epoch 4/10\n",
      "18/18 [==============================] - 0s 7ms/step - loss: 0.1115 - accuracy: 0.9679 - val_loss: 0.1026 - val_accuracy: 0.9562\n",
      "Epoch 5/10\n",
      "18/18 [==============================] - 0s 8ms/step - loss: 0.0826 - accuracy: 0.9742 - val_loss: 0.1016 - val_accuracy: 0.9562\n",
      "Epoch 6/10\n",
      "18/18 [==============================] - 0s 8ms/step - loss: 0.0617 - accuracy: 0.9812 - val_loss: 0.1000 - val_accuracy: 0.9562\n",
      "Epoch 7/10\n",
      "18/18 [==============================] - 0s 8ms/step - loss: 0.0641 - accuracy: 0.9772 - val_loss: 0.1070 - val_accuracy: 0.9562\n",
      "Epoch 8/10\n",
      "18/18 [==============================] - 0s 9ms/step - loss: 0.0884 - accuracy: 0.9747 - val_loss: 0.1070 - val_accuracy: 0.9562\n",
      "Epoch 9/10\n",
      "18/18 [==============================] - 0s 7ms/step - loss: 0.0646 - accuracy: 0.9822 - val_loss: 0.1078 - val_accuracy: 0.9562\n",
      "Epoch 10/10\n",
      "18/18 [==============================] - 0s 7ms/step - loss: 0.0650 - accuracy: 0.9824 - val_loss: 0.1065 - val_accuracy: 0.9562\n"
     ]
    },
    {
     "data": {
      "text/plain": [
       "<tensorflow.python.keras.callbacks.History at 0x1bf33b73d90>"
      ]
     },
     "execution_count": 104,
     "metadata": {},
     "output_type": "execute_result"
    }
   ],
   "source": [
    "model.fit(X_train, y_train, epochs = 10, validation_data = (X_test, y_test))"
   ]
  },
  {
   "cell_type": "code",
   "execution_count": 128,
   "id": "86839362",
   "metadata": {},
   "outputs": [],
   "source": [
    "import matplotlib.pyplot as plt"
   ]
  },
  {
   "cell_type": "code",
   "execution_count": 129,
   "id": "9f3f5e98",
   "metadata": {},
   "outputs": [
    {
     "data": {
      "text/plain": [
       "Index(['clump_thickness', 'un_cell_size', 'un_cell_shape',\n",
       "       'marginal_adheshion', 'single_eph_cell_size', 'bare_nuclei',\n",
       "       'bland_chromatin', 'normal_nucleoli', 'mitoses', 'class'],\n",
       "      dtype='object')"
      ]
     },
     "execution_count": 129,
     "metadata": {},
     "output_type": "execute_result"
    }
   ],
   "source": [
    "data.columns"
   ]
  }
 ],
 "metadata": {
  "kernelspec": {
   "display_name": "Python 3",
   "language": "python",
   "name": "python3"
  },
  "language_info": {
   "codemirror_mode": {
    "name": "ipython",
    "version": 3
   },
   "file_extension": ".py",
   "mimetype": "text/x-python",
   "name": "python",
   "nbconvert_exporter": "python",
   "pygments_lexer": "ipython3",
   "version": "3.8.6"
  }
 },
 "nbformat": 4,
 "nbformat_minor": 5
}
